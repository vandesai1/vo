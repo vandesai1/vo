{
 "cells": [
  {
   "cell_type": "markdown",
   "metadata": {},
   "source": [
    "# vo_conesearch\n",
    "\n",
    "The astroquery package (http://astroquery.readthedocs.io/en/latest/) contains a module called vo_conesearch (http://astroquery.readthedocs.io/en/latest/vo_conesearch/vo_conesearch.html). In this notebook, we provide examples of how to do searches with this module."
   ]
  },
  {
   "cell_type": "markdown",
   "metadata": {},
   "source": [
    "## Example 1: AKARI Far-Infrared Survey Point Source Catalog\n",
    "\n",
    "If you do a registry search for keyword = 'AKARI', capability = simple cone search, and provider = IRSA, you will find the following resource url:\n",
    "\n",
    "https://irsa.ipac.caltech.edu/SCS?table=akari_fis&"
   ]
  },
  {
   "cell_type": "code",
   "execution_count": 37,
   "metadata": {
    "collapsed": true
   },
   "outputs": [],
   "source": [
    "from astropy import units as u\n",
    "from astropy.coordinates import SkyCoord\n",
    "from astroquery.vo_conesearch import ConeSearch"
   ]
  },
  {
   "cell_type": "code",
   "execution_count": 38,
   "metadata": {
    "collapsed": true
   },
   "outputs": [],
   "source": [
    "# Define your search object.\n",
    "# See http://astropy.readthedocs.io/en/stable/coordinates/index.html\n",
    "c = SkyCoord(0, 0, frame='icrs', unit='deg')\n",
    "\n",
    "# Define your search radius.\n",
    "# See http://astropy.readthedocs.io/en/stable/units/index.html\n",
    "sr = 0.1 * u.degree"
   ]
  },
  {
   "cell_type": "code",
   "execution_count": 39,
   "metadata": {
    "collapsed": true
   },
   "outputs": [],
   "source": [
    "ConeSearch.URL = 'https://irsa.ipac.caltech.edu/SCS?table=akari_fis'\n",
    "result = ConeSearch.query_region(c, sr)"
   ]
  },
  {
   "cell_type": "code",
   "execution_count": 40,
   "metadata": {},
   "outputs": [
    {
     "name": "stdout",
     "output_type": "stream",
     "text": [
      "<class 'astropy.io.votable.tree.Table'>\n",
      " objid     objname              ra         ...  spt_ind   cntr \n",
      "                               deg         ...                 \n",
      "------- -------------- ------------------- ... --------- ------\n",
      "3119859 2359487-000418          359.952740 ... 132000000 119859\n"
     ]
    }
   ],
   "source": [
    "# This is a VO Table object.\n",
    "print(result.__class__)\n",
    "print(result)"
   ]
  },
  {
   "cell_type": "code",
   "execution_count": 41,
   "metadata": {},
   "outputs": [
    {
     "name": "stdout",
     "output_type": "stream",
     "text": [
      " objid     objname              ra         ...  spt_ind   cntr \n",
      "                               deg         ...                 \n",
      "------- -------------- ------------------- ... --------- ------\n",
      "3119859 2359487-000418          359.952740 ... 132000000 119859\n"
     ]
    }
   ],
   "source": [
    "# Convert it to a more user-friendly Astropy Table object.\n",
    "tab = result.to_table()\n",
    "print(tab)"
   ]
  },
  {
   "cell_type": "code",
   "execution_count": 42,
   "metadata": {},
   "outputs": [
    {
     "name": "stdout",
     "output_type": "stream",
     "text": [
      "<class 'pandas.core.frame.DataFrame'>\n",
      "       objid            objname         ra      dec  poserrmj  poserrmi  \\\n",
      "0  3119859.0  b'2359487-000418'  359.95274 -0.07168       6.0       6.0   \n",
      "\n",
      "   posserrpa  flux65  flux90  flux140    ...     mconf65  mconf90  mconf140  \\\n",
      "0        0.0  0.1588  0.6644    1.092    ...         0.0      1.0       0.0   \n",
      "\n",
      "   mconf160  ndens         x         y         z      spt_ind      cntr  \n",
      "0       0.0    0.0  0.999999 -0.000825 -0.001251  132000000.0  119859.0  \n",
      "\n",
      "[1 rows x 41 columns]\n"
     ]
    }
   ],
   "source": [
    "# And if you prefer pandas DataFrame\n",
    "pantab = tab.to_pandas()\n",
    "print(pantab.__class__)\n",
    "print(pantab)"
   ]
  },
  {
   "cell_type": "markdown",
   "metadata": {},
   "source": [
    "## Example 2 - Spitzer Enhanced Imaging Products"
   ]
  },
  {
   "cell_type": "markdown",
   "metadata": {},
   "source": [
    "On the command line, this would be \n",
    "\n",
    "wget -O 'out.tbl' 'https://irsa.ipac.caltech.edu/SCS?table=slphotdr4&RA=0&DEC=0&SR=0.1'"
   ]
  },
  {
   "cell_type": "code",
   "execution_count": 43,
   "metadata": {},
   "outputs": [
    {
     "ename": "VOSError",
     "evalue": "Catalog server 'https://irsa.ipac.caltech.edu/SCS?table=slphotdr4&' returned 0 result",
     "output_type": "error",
     "traceback": [
      "\u001b[0;31m---------------------------------------------------------------------------\u001b[0m",
      "\u001b[0;31mVOSError\u001b[0m                                  Traceback (most recent call last)",
      "\u001b[0;32m<ipython-input-43-09b64caf3211>\u001b[0m in \u001b[0;36m<module>\u001b[0;34m()\u001b[0m\n\u001b[1;32m      1\u001b[0m \u001b[0mConeSearch\u001b[0m\u001b[0;34m.\u001b[0m\u001b[0mURL\u001b[0m \u001b[0;34m=\u001b[0m \u001b[0;34m'https://irsa.ipac.caltech.edu/SCS?table=slphotdr4&'\u001b[0m\u001b[0;34m\u001b[0m\u001b[0m\n\u001b[0;32m----> 2\u001b[0;31m \u001b[0mresult\u001b[0m \u001b[0;34m=\u001b[0m \u001b[0mConeSearch\u001b[0m\u001b[0;34m.\u001b[0m\u001b[0mquery_region\u001b[0m\u001b[0;34m(\u001b[0m\u001b[0mc\u001b[0m\u001b[0;34m,\u001b[0m \u001b[0msr\u001b[0m\u001b[0;34m)\u001b[0m\u001b[0;34m\u001b[0m\u001b[0m\n\u001b[0m\u001b[1;32m      3\u001b[0m \u001b[0mtab\u001b[0m \u001b[0;34m=\u001b[0m \u001b[0mresult\u001b[0m\u001b[0;34m.\u001b[0m\u001b[0mto_table\u001b[0m\u001b[0;34m(\u001b[0m\u001b[0;34m)\u001b[0m\u001b[0;34m\u001b[0m\u001b[0m\n\u001b[1;32m      4\u001b[0m \u001b[0mprint\u001b[0m\u001b[0;34m(\u001b[0m\u001b[0mtab\u001b[0m\u001b[0;34m)\u001b[0m\u001b[0;34m\u001b[0m\u001b[0m\n",
      "\u001b[0;32m~/anaconda3/lib/python3.6/site-packages/astroquery/vo_conesearch/core.py\u001b[0m in \u001b[0;36mquery_region\u001b[0;34m(self, coordinates, radius, verb, get_query_payload, cache, verbose)\u001b[0m\n\u001b[1;32m    141\u001b[0m                                  timeout=self.TIMEOUT, cache=cache)\n\u001b[1;32m    142\u001b[0m         result = self._parse_result(response, pars=request_payload,\n\u001b[0;32m--> 143\u001b[0;31m                                     verbose=verbose)\n\u001b[0m\u001b[1;32m    144\u001b[0m         \u001b[0;32mreturn\u001b[0m \u001b[0mresult\u001b[0m\u001b[0;34m\u001b[0m\u001b[0m\n\u001b[1;32m    145\u001b[0m \u001b[0;34m\u001b[0m\u001b[0m\n",
      "\u001b[0;32m~/anaconda3/lib/python3.6/site-packages/astroquery/vo_conesearch/core.py\u001b[0m in \u001b[0;36m_parse_result\u001b[0;34m(self, response, pars, verbose)\u001b[0m\n\u001b[1;32m    171\u001b[0m         tab = table.parse(BytesIO(response.content), filename=parsed_url,\n\u001b[1;32m    172\u001b[0m                           pedantic=self.PEDANTIC)\n\u001b[0;32m--> 173\u001b[0;31m         \u001b[0;32mreturn\u001b[0m \u001b[0mvo_tab_parse\u001b[0m\u001b[0;34m(\u001b[0m\u001b[0mtab\u001b[0m\u001b[0;34m,\u001b[0m \u001b[0mself\u001b[0m\u001b[0;34m.\u001b[0m\u001b[0mURL\u001b[0m\u001b[0;34m,\u001b[0m \u001b[0mpars\u001b[0m\u001b[0;34m)\u001b[0m\u001b[0;34m\u001b[0m\u001b[0m\n\u001b[0m\u001b[1;32m    174\u001b[0m \u001b[0;34m\u001b[0m\u001b[0m\n\u001b[1;32m    175\u001b[0m \u001b[0;34m\u001b[0m\u001b[0m\n",
      "\u001b[0;32m~/anaconda3/lib/python3.6/site-packages/astroquery/vo_conesearch/vos_catalog.py\u001b[0m in \u001b[0;36mvo_tab_parse\u001b[0;34m(tab, url, kwargs)\u001b[0m\n\u001b[1;32m    801\u001b[0m     \u001b[0;32mif\u001b[0m \u001b[0msr\u001b[0m \u001b[0;34m!=\u001b[0m \u001b[0;36m0\u001b[0m \u001b[0;32mand\u001b[0m \u001b[0mout_tab\u001b[0m\u001b[0;34m.\u001b[0m\u001b[0marray\u001b[0m\u001b[0;34m.\u001b[0m\u001b[0msize\u001b[0m \u001b[0;34m<=\u001b[0m \u001b[0;36m0\u001b[0m\u001b[0;34m:\u001b[0m\u001b[0;34m\u001b[0m\u001b[0m\n\u001b[1;32m    802\u001b[0m         raise VOSError(\"Catalog server '{0}' returned {1} result\".format(\n\u001b[0;32m--> 803\u001b[0;31m             url, out_tab.array.size))\n\u001b[0m\u001b[1;32m    804\u001b[0m \u001b[0;34m\u001b[0m\u001b[0m\n\u001b[1;32m    805\u001b[0m     \u001b[0mout_tab\u001b[0m\u001b[0;34m.\u001b[0m\u001b[0murl\u001b[0m \u001b[0;34m=\u001b[0m \u001b[0murl\u001b[0m  \u001b[0;31m# Track the URL\u001b[0m\u001b[0;34m\u001b[0m\u001b[0m\n",
      "\u001b[0;31mVOSError\u001b[0m: Catalog server 'https://irsa.ipac.caltech.edu/SCS?table=slphotdr4&' returned 0 result"
     ]
    }
   ],
   "source": [
    "ConeSearch.URL = 'https://irsa.ipac.caltech.edu/SCS?table=slphotdr4&'\n",
    "result = ConeSearch.query_region(c, sr)\n",
    "tab = result.to_table()\n",
    "print(tab)"
   ]
  },
  {
   "cell_type": "markdown",
   "metadata": {},
   "source": [
    "## Example 2 - IRSA's All-Sky Surveys\n",
    "\n",
    "Now let's do a more complicated example. IRSA has a bunch of all-sky surveys. Let's search some of those catalogs on the same position, since there is guaranteed to be a result."
   ]
  },
  {
   "cell_type": "code",
   "execution_count": 47,
   "metadata": {
    "collapsed": true
   },
   "outputs": [],
   "source": [
    "from astropy.table import Table"
   ]
  },
  {
   "cell_type": "code",
   "execution_count": 48,
   "metadata": {},
   "outputs": [
    {
     "ename": "ValueError",
     "evalue": "Inconsistent data column lengths: {4, 5}",
     "output_type": "error",
     "traceback": [
      "\u001b[0;31m---------------------------------------------------------------------------\u001b[0m",
      "\u001b[0;31mValueError\u001b[0m                                Traceback (most recent call last)",
      "\u001b[0;32m<ipython-input-48-b2753f0dd669>\u001b[0m in \u001b[0;36m<module>\u001b[0;34m()\u001b[0m\n\u001b[1;32m      4\u001b[0m              \u001b[0;34m'https://irsa.ipac.caltech.edu/SCS?table=iraspsc&'\u001b[0m\u001b[0;34m,\u001b[0m\u001b[0;34m\u001b[0m\u001b[0m\n\u001b[1;32m      5\u001b[0m              'https://irsa.ipac.caltech.edu/SCS?table=akari_fis&']\n\u001b[0;32m----> 6\u001b[0;31m \u001b[0msearch_list\u001b[0m \u001b[0;34m=\u001b[0m \u001b[0mTable\u001b[0m\u001b[0;34m(\u001b[0m\u001b[0;34m[\u001b[0m\u001b[0mmissions\u001b[0m\u001b[0;34m,\u001b[0m \u001b[0mbase_urls\u001b[0m\u001b[0;34m]\u001b[0m\u001b[0;34m,\u001b[0m \u001b[0mnames\u001b[0m \u001b[0;34m=\u001b[0m \u001b[0;34m(\u001b[0m\u001b[0;34m'mission'\u001b[0m\u001b[0;34m,\u001b[0m \u001b[0;34m'base_url'\u001b[0m\u001b[0;34m)\u001b[0m\u001b[0;34m)\u001b[0m\u001b[0;34m\u001b[0m\u001b[0m\n\u001b[0m",
      "\u001b[0;32m~/anaconda3/lib/python3.6/site-packages/astropy/table/table.py\u001b[0m in \u001b[0;36m__init__\u001b[0;34m(self, data, masked, names, dtype, meta, copy, rows, copy_indices, **kwargs)\u001b[0m\n\u001b[1;32m    411\u001b[0m \u001b[0;34m\u001b[0m\u001b[0m\n\u001b[1;32m    412\u001b[0m         \u001b[0;31m# Finally do the real initialization\u001b[0m\u001b[0;34m\u001b[0m\u001b[0;34m\u001b[0m\u001b[0m\n\u001b[0;32m--> 413\u001b[0;31m         \u001b[0minit_func\u001b[0m\u001b[0;34m(\u001b[0m\u001b[0mdata\u001b[0m\u001b[0;34m,\u001b[0m \u001b[0mnames\u001b[0m\u001b[0;34m,\u001b[0m \u001b[0mdtype\u001b[0m\u001b[0;34m,\u001b[0m \u001b[0mn_cols\u001b[0m\u001b[0;34m,\u001b[0m \u001b[0mcopy\u001b[0m\u001b[0;34m)\u001b[0m\u001b[0;34m\u001b[0m\u001b[0m\n\u001b[0m\u001b[1;32m    414\u001b[0m \u001b[0;34m\u001b[0m\u001b[0m\n\u001b[1;32m    415\u001b[0m         \u001b[0;31m# Whatever happens above, the masked property should be set to a boolean\u001b[0m\u001b[0;34m\u001b[0m\u001b[0;34m\u001b[0m\u001b[0m\n",
      "\u001b[0;32m~/anaconda3/lib/python3.6/site-packages/astropy/table/table.py\u001b[0m in \u001b[0;36m_init_from_list\u001b[0;34m(self, data, names, dtype, n_cols, copy)\u001b[0m\n\u001b[1;32m    684\u001b[0m             \u001b[0mcols\u001b[0m\u001b[0;34m.\u001b[0m\u001b[0mappend\u001b[0m\u001b[0;34m(\u001b[0m\u001b[0mcol\u001b[0m\u001b[0;34m)\u001b[0m\u001b[0;34m\u001b[0m\u001b[0m\n\u001b[1;32m    685\u001b[0m \u001b[0;34m\u001b[0m\u001b[0m\n\u001b[0;32m--> 686\u001b[0;31m         \u001b[0mself\u001b[0m\u001b[0;34m.\u001b[0m\u001b[0m_init_from_cols\u001b[0m\u001b[0;34m(\u001b[0m\u001b[0mcols\u001b[0m\u001b[0;34m)\u001b[0m\u001b[0;34m\u001b[0m\u001b[0m\n\u001b[0m\u001b[1;32m    687\u001b[0m \u001b[0;34m\u001b[0m\u001b[0m\n\u001b[1;32m    688\u001b[0m     \u001b[0;32mdef\u001b[0m \u001b[0m_init_from_ndarray\u001b[0m\u001b[0;34m(\u001b[0m\u001b[0mself\u001b[0m\u001b[0;34m,\u001b[0m \u001b[0mdata\u001b[0m\u001b[0;34m,\u001b[0m \u001b[0mnames\u001b[0m\u001b[0;34m,\u001b[0m \u001b[0mdtype\u001b[0m\u001b[0;34m,\u001b[0m \u001b[0mn_cols\u001b[0m\u001b[0;34m,\u001b[0m \u001b[0mcopy\u001b[0m\u001b[0;34m)\u001b[0m\u001b[0;34m:\u001b[0m\u001b[0;34m\u001b[0m\u001b[0m\n",
      "\u001b[0;32m~/anaconda3/lib/python3.6/site-packages/astropy/table/table.py\u001b[0m in \u001b[0;36m_init_from_cols\u001b[0;34m(self, cols)\u001b[0m\n\u001b[1;32m    749\u001b[0m         \u001b[0;32mif\u001b[0m \u001b[0mlen\u001b[0m\u001b[0;34m(\u001b[0m\u001b[0mlengths\u001b[0m\u001b[0;34m)\u001b[0m \u001b[0;34m!=\u001b[0m \u001b[0;36m1\u001b[0m\u001b[0;34m:\u001b[0m\u001b[0;34m\u001b[0m\u001b[0m\n\u001b[1;32m    750\u001b[0m             raise ValueError('Inconsistent data column lengths: {0}'\n\u001b[0;32m--> 751\u001b[0;31m                              .format(lengths))\n\u001b[0m\u001b[1;32m    752\u001b[0m \u001b[0;34m\u001b[0m\u001b[0m\n\u001b[1;32m    753\u001b[0m         \u001b[0;31m# Set the table masking\u001b[0m\u001b[0;34m\u001b[0m\u001b[0;34m\u001b[0m\u001b[0m\n",
      "\u001b[0;31mValueError\u001b[0m: Inconsistent data column lengths: {4, 5}"
     ]
    }
   ],
   "source": [
    "missions = ['2MASS', 'WISE', 'IRAS', 'AKARI', 'Planck']\n",
    "base_urls = ['https://irsa.ipac.caltech.edu/SCS?table=fp_psc&',\n",
    "             'https://irsa.ipac.caltech.edu/SCS?table=allwise_p3as_psd&',\n",
    "             'https://irsa.ipac.caltech.edu/SCS?table=iraspsc&',\n",
    "             'https://irsa.ipac.caltech.edu/SCS?table=akari_fis&']\n",
    "search_list = Table([missions, base_urls], names = ('mission', 'base_url'))"
   ]
  },
  {
   "cell_type": "code",
   "execution_count": 49,
   "metadata": {},
   "outputs": [
    {
     "name": "stdout",
     "output_type": "stream",
     "text": [
      "https://irsa.ipac.caltech.edu/SCS?table=fp_psc&\n",
      "    ra        dec     err_maj err_min ... coadd_key coadd      htm20      \n",
      "   deg        deg       arcs    arcs  ...                                 \n",
      "---------- ---------- ------- ------- ... --------- ----- ----------------\n",
      "  0.009564  -0.000827    0.27    0.25 ...    332212   267  8796093031250.0\n",
      "  0.030595  -0.006287    0.26    0.10 ...    711896   267  8796093215061.0\n",
      "  0.003475  -0.077231    0.35    0.30 ...    332211   257  8796093295024.0\n",
      "  0.010774  -0.072680    0.09    0.06 ...    332211   257  8796093342858.0\n",
      "  0.025623  -0.046417    0.25    0.10 ...    711896   267  8796093380071.0\n",
      "  0.019514  -0.057209    0.28    0.24 ...    332212   267  8796093534781.0\n",
      "  0.047375  -0.006703    0.26    0.10 ...    711896   267  8796093617937.0\n",
      "  0.032625  -0.040604    0.25    0.11 ...    711896   267  8796093847269.0\n",
      "  0.021541  -0.023737    0.37    0.25 ...    711896   267  8796093973351.0\n",
      "  0.017380  -0.032945    0.11    0.08 ...    332212   267  8796093982822.0\n",
      "       ...        ...     ...     ... ...       ...   ...              ...\n",
      "  0.074980   0.002871    0.37    0.27 ...    711896   267 17042430549356.0\n",
      "  0.074518   0.009934    0.26    0.10 ...    711896   267 17042430553684.0\n",
      "  0.051312   0.020844    0.34    0.21 ...    711896   267 17042430699481.0\n",
      "  0.020036   0.059739    0.10    0.06 ...    332212   267 17042430977505.0\n",
      "  0.028464   0.041338    0.28    0.11 ...    711896   267 17042431047029.0\n",
      "  0.044682   0.088436    0.29    0.10 ...    711896   267 17042432983121.0\n",
      "  0.010819   0.085355    0.46    0.36 ...    711896   267 17042433647117.0\n",
      "  0.049897   0.040369    0.30    0.18 ...    711896   267 17042434046706.0\n",
      "  0.047617   0.061603    0.24    0.22 ...   1228752   267 17042434198422.0\n",
      "  0.075254   0.056060    0.28    0.10 ...    711896   267 17042434253746.0\n",
      "Length = 46 rows\n",
      "https://irsa.ipac.caltech.edu/SCS?table=allwise_p3as_psd&\n",
      "    designation          ra         dec      sigra   ... pm_qual cat load_id\n",
      "                        deg         deg       arcs   ...                    \n",
      "------------------- ----------- ----------- -------- ... ------- --- -------\n",
      "J000019.12+000031.1   0.0796721   0.0086586   0.3409 ...           1    1016\n",
      "J000010.83+000153.3   0.0451370   0.0314956   0.2176 ...           1    1016\n",
      "J000020.09+000034.7   0.0837109   0.0096564   0.2871 ...           1    1016\n",
      "J000012.31+000115.0   0.0512945   0.0208358   0.0707 ...           1    1016\n",
      "J000011.49+000341.4   0.0478925   0.0615065   0.1149 ...           1    1016\n",
      "J000018.71+000129.5   0.0779700   0.0248778   0.5518 ...           1    1016\n",
      "J000003.13+000112.8   0.0130431   0.0202485   0.4788 ...           1    1016\n",
      "J000005.32+000220.8   0.0221788   0.0391161   0.3939 ...           1    1016\n",
      "J000000.07+000036.7   0.0003079   0.0102014   0.6027 ...           1    1016\n",
      "J000013.33-000443.4   0.0555637  -0.0787404   0.0437 ...           1    1016\n",
      "                ...         ...         ...      ... ...     ... ...     ...\n",
      "J235944.24+000211.9 359.9343470   0.0366599   0.2665 ...           1    1016\n",
      "J235937.55+000141.2 359.9064964   0.0281256   0.1630 ...           1    1016\n",
      "J235952.85+000255.8 359.9702409   0.0488606   0.4505 ...           1    1016\n",
      "J235949.27+000247.5 359.9553322   0.0465427   0.4251 ...           1    1016\n",
      "J000006.01+000107.3   0.0250794   0.0187176   0.6002 ...           1    1016\n",
      "J000005.86+000515.5   0.0244308   0.0876625   0.2027 ...           1    1016\n",
      "J000009.39+000005.5   0.0391459   0.0015470   0.0408 ...           1    1016\n",
      "J000000.02+000427.6   0.0001196   0.0743397   0.4823 ...           1    1016\n",
      "J000007.71+000116.7   0.0321578   0.0213157   0.6053 ...           1    1016\n",
      "J000006.50+000145.5   0.0271024   0.0293081   0.5640 ...           1    1016\n",
      "Length = 356 rows\n",
      "https://irsa.ipac.caltech.edu/SCS?table=iraspsc&\n",
      " pscname   rah ram ras  ...          y                   z           spt_ind \n",
      "            h  min  s   ...                                                  \n",
      "---------- --- --- ---- ... ------------------- ------------------- ---------\n",
      "23572-0021  23  57 13.9 ... -0.0008969509128744 -0.0013370136196739 132000000\n",
      "https://irsa.ipac.caltech.edu/SCS?table=akari_fis&\n",
      " objid     objname              ra         ...  spt_ind   cntr \n",
      "                               deg         ...                 \n",
      "------- -------------- ------------------- ... --------- ------\n",
      "3119859 2359487-000418          359.952740 ... 132000000 119859\n"
     ]
    },
    {
     "ename": "IndexError",
     "evalue": "list index out of range",
     "output_type": "error",
     "traceback": [
      "\u001b[0;31m---------------------------------------------------------------------------\u001b[0m",
      "\u001b[0;31mIndexError\u001b[0m                                Traceback (most recent call last)",
      "\u001b[0;32m<ipython-input-49-4a682be07504>\u001b[0m in \u001b[0;36m<module>\u001b[0;34m()\u001b[0m\n\u001b[1;32m      1\u001b[0m \u001b[0;32mfor\u001b[0m \u001b[0mi\u001b[0m\u001b[0;34m,\u001b[0m \u001b[0mbase_url\u001b[0m \u001b[0;32min\u001b[0m \u001b[0menumerate\u001b[0m\u001b[0;34m(\u001b[0m\u001b[0msearch_list\u001b[0m\u001b[0;34m[\u001b[0m\u001b[0;34m'base_url'\u001b[0m\u001b[0;34m]\u001b[0m\u001b[0;34m)\u001b[0m\u001b[0;34m:\u001b[0m\u001b[0;34m\u001b[0m\u001b[0m\n\u001b[0;32m----> 2\u001b[0;31m     \u001b[0mprint\u001b[0m\u001b[0;34m(\u001b[0m\u001b[0mbase_urls\u001b[0m\u001b[0;34m[\u001b[0m\u001b[0mi\u001b[0m\u001b[0;34m]\u001b[0m\u001b[0;34m)\u001b[0m\u001b[0;34m\u001b[0m\u001b[0m\n\u001b[0m\u001b[1;32m      3\u001b[0m     \u001b[0mConeSearch\u001b[0m\u001b[0;34m.\u001b[0m\u001b[0mURL\u001b[0m \u001b[0;34m=\u001b[0m \u001b[0mbase_urls\u001b[0m\u001b[0;34m[\u001b[0m\u001b[0mi\u001b[0m\u001b[0;34m]\u001b[0m\u001b[0;34m\u001b[0m\u001b[0m\n\u001b[1;32m      4\u001b[0m     \u001b[0mresult\u001b[0m \u001b[0;34m=\u001b[0m \u001b[0mConeSearch\u001b[0m\u001b[0;34m.\u001b[0m\u001b[0mquery_region\u001b[0m\u001b[0;34m(\u001b[0m\u001b[0mc\u001b[0m\u001b[0;34m,\u001b[0m \u001b[0msr\u001b[0m\u001b[0;34m)\u001b[0m\u001b[0;34m\u001b[0m\u001b[0m\n\u001b[1;32m      5\u001b[0m     \u001b[0mtab\u001b[0m \u001b[0;34m=\u001b[0m \u001b[0mresult\u001b[0m\u001b[0;34m.\u001b[0m\u001b[0mto_table\u001b[0m\u001b[0;34m(\u001b[0m\u001b[0;34m)\u001b[0m\u001b[0;34m\u001b[0m\u001b[0m\n",
      "\u001b[0;31mIndexError\u001b[0m: list index out of range"
     ]
    }
   ],
   "source": [
    "for i, base_url in enumerate(search_list['base_url']):\n",
    "    print(base_urls[i])\n",
    "    ConeSearch.URL = base_urls[i]\n",
    "    result = ConeSearch.query_region(c, sr)\n",
    "    tab = result.to_table()\n",
    "    print(tab)"
   ]
  },
  {
   "cell_type": "code",
   "execution_count": null,
   "metadata": {
    "collapsed": true
   },
   "outputs": [],
   "source": []
  }
 ],
 "metadata": {
  "kernelspec": {
   "display_name": "Python 3",
   "language": "python",
   "name": "python3"
  },
  "language_info": {
   "codemirror_mode": {
    "name": "ipython",
    "version": 3
   },
   "file_extension": ".py",
   "mimetype": "text/x-python",
   "name": "python",
   "nbconvert_exporter": "python",
   "pygments_lexer": "ipython3",
   "version": "3.6.3"
  }
 },
 "nbformat": 4,
 "nbformat_minor": 2
}
